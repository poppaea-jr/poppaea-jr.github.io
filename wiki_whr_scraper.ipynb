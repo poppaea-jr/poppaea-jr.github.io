{
  "nbformat": 4,
  "nbformat_minor": 0,
  "metadata": {
    "colab": {
      "name": "wiki_whr_scraper.ipynb",
      "provenance": []
    },
    "kernelspec": {
      "name": "python3",
      "display_name": "Python 3"
    },
    "language_info": {
      "name": "python"
    }
  },
  "cells": [
    {
      "cell_type": "code",
      "metadata": {
        "id": "08RBcw4GyPtF"
      },
      "source": [
        "# building my first scraper, to fetch data from Wikipedia for the World Happiness Index"
      ],
      "execution_count": 18,
      "outputs": []
    },
    {
      "cell_type": "code",
      "metadata": {
        "id": "7VtsW7Lsd8km"
      },
      "source": [
        "import pandas as pd"
      ],
      "execution_count": 19,
      "outputs": []
    },
    {
      "cell_type": "code",
      "metadata": {
        "id": "zUaj2qlSdBZB"
      },
      "source": [
        "tables = pd.read_html(\"https://en.wikipedia.org/wiki/World_Happiness_Report#2020_report\")"
      ],
      "execution_count": 20,
      "outputs": []
    },
    {
      "cell_type": "code",
      "metadata": {
        "id": "FY0xN6IKd63T"
      },
      "source": [
        "# this commmand reads directly from Wikipedia's html using pandas"
      ],
      "execution_count": 21,
      "outputs": []
    },
    {
      "cell_type": "code",
      "source": [
        "# creating a dataframe using the 9th table on the page"
      ],
      "metadata": {
        "id": "cN0EKd7YehXs"
      },
      "execution_count": 22,
      "outputs": []
    },
    {
      "cell_type": "code",
      "metadata": {
        "id": "KQLJi8bzfNlk"
      },
      "source": [
        "df = tables[9]"
      ],
      "execution_count": 23,
      "outputs": []
    },
    {
      "cell_type": "code",
      "source": [
        "df"
      ],
      "metadata": {
        "id": "YhUL13Sqeovp"
      },
      "execution_count": null,
      "outputs": []
    },
    {
      "cell_type": "code",
      "metadata": {
        "id": "wpHnGb17LW6s"
      },
      "source": [
        "df=df.sort_values(by=\"Score\",ascending=False)"
      ],
      "execution_count": 25,
      "outputs": []
    },
    {
      "cell_type": "code",
      "metadata": {
        "id": "aUIrKq8gID4v"
      },
      "source": [
        "df.head(25)"
      ],
      "execution_count": null,
      "outputs": []
    },
    {
      "cell_type": "code",
      "source": [
        "# dropping everything but the top 25 values for happiness score"
      ],
      "metadata": {
        "id": "mLiePQYzf6JF"
      },
      "execution_count": null,
      "outputs": []
    },
    {
      "cell_type": "code",
      "metadata": {
        "id": "985MS7NKIga_"
      },
      "source": [
        "df = df.head(25)"
      ],
      "execution_count": 27,
      "outputs": []
    },
    {
      "cell_type": "code",
      "metadata": {
        "id": "LUgmFRV3g9sQ"
      },
      "source": [
        "df[\"Country or region\"]"
      ],
      "execution_count": null,
      "outputs": []
    },
    {
      "cell_type": "code",
      "metadata": {
        "id": "3_p-0CS-hGad"
      },
      "source": [
        "df[\"Score\"]"
      ],
      "execution_count": null,
      "outputs": []
    },
    {
      "cell_type": "code",
      "metadata": {
        "id": "ZR3R_hfEhL_7"
      },
      "source": [
        "df[ [\"Country or region\", \"Score\"] ].to_csv(\"WHRdataT25.csv\")"
      ],
      "execution_count": 30,
      "outputs": []
    },
    {
      "cell_type": "code",
      "source": [
        "from google.colab import files"
      ],
      "metadata": {
        "id": "NCmTKR9_fD7n"
      },
      "execution_count": 31,
      "outputs": []
    },
    {
      "cell_type": "code",
      "source": [
        "files.download(\"WHRdataT25.csv\")"
      ],
      "metadata": {
        "colab": {
          "base_uri": "https://localhost:8080/",
          "height": 17
        },
        "id": "l2GZeggxfJAE",
        "outputId": "9adda1c9-7862-4f4f-fa47-3d3089409fe8"
      },
      "execution_count": 32,
      "outputs": [
        {
          "output_type": "display_data",
          "data": {
            "application/javascript": [
              "\n",
              "    async function download(id, filename, size) {\n",
              "      if (!google.colab.kernel.accessAllowed) {\n",
              "        return;\n",
              "      }\n",
              "      const div = document.createElement('div');\n",
              "      const label = document.createElement('label');\n",
              "      label.textContent = `Downloading \"${filename}\": `;\n",
              "      div.appendChild(label);\n",
              "      const progress = document.createElement('progress');\n",
              "      progress.max = size;\n",
              "      div.appendChild(progress);\n",
              "      document.body.appendChild(div);\n",
              "\n",
              "      const buffers = [];\n",
              "      let downloaded = 0;\n",
              "\n",
              "      const channel = await google.colab.kernel.comms.open(id);\n",
              "      // Send a message to notify the kernel that we're ready.\n",
              "      channel.send({})\n",
              "\n",
              "      for await (const message of channel.messages) {\n",
              "        // Send a message to notify the kernel that we're ready.\n",
              "        channel.send({})\n",
              "        if (message.buffers) {\n",
              "          for (const buffer of message.buffers) {\n",
              "            buffers.push(buffer);\n",
              "            downloaded += buffer.byteLength;\n",
              "            progress.value = downloaded;\n",
              "          }\n",
              "        }\n",
              "      }\n",
              "      const blob = new Blob(buffers, {type: 'application/binary'});\n",
              "      const a = document.createElement('a');\n",
              "      a.href = window.URL.createObjectURL(blob);\n",
              "      a.download = filename;\n",
              "      div.appendChild(a);\n",
              "      a.click();\n",
              "      div.remove();\n",
              "    }\n",
              "  "
            ],
            "text/plain": [
              "<IPython.core.display.Javascript object>"
            ]
          },
          "metadata": {}
        },
        {
          "output_type": "display_data",
          "data": {
            "application/javascript": [
              "download(\"download_a95a6083-c38c-4b12-be05-15f5676dd99a\", \"WHRdataT25.csv\", 544)"
            ],
            "text/plain": [
              "<IPython.core.display.Javascript object>"
            ]
          },
          "metadata": {}
        }
      ]
    },
    {
      "cell_type": "code",
      "metadata": {
        "id": "5vMUKeqZgk6z"
      },
      "source": [
        "# now for the last 25:"
      ],
      "execution_count": 33,
      "outputs": []
    },
    {
      "cell_type": "code",
      "metadata": {
        "id": "dUXFeuGUI0Zi"
      },
      "source": [
        "tables = pd.read_html(\"https://en.wikipedia.org/wiki/World_Happiness_Report#2020_report\")"
      ],
      "execution_count": 34,
      "outputs": []
    },
    {
      "cell_type": "code",
      "metadata": {
        "id": "VnN9Y4fSI0rJ"
      },
      "source": [
        "df = tables[9]"
      ],
      "execution_count": 35,
      "outputs": []
    },
    {
      "cell_type": "code",
      "metadata": {
        "id": "ufhS-7y9I5aO"
      },
      "source": [
        "df=df.sort_values(by=\"Score\",ascending=False)"
      ],
      "execution_count": 36,
      "outputs": []
    },
    {
      "cell_type": "code",
      "metadata": {
        "colab": {
          "base_uri": "https://localhost:8080/",
          "height": 912
        },
        "id": "sZtrGxe7I8Wu",
        "outputId": "6e714908-c0fd-435c-c744-f212aae4a7ad"
      },
      "source": [
        "df.tail(25)"
      ],
      "execution_count": 37,
      "outputs": [
        {
          "output_type": "execute_result",
          "data": {
            "text/html": [
              "\n",
              "  <div id=\"df-461c953b-d713-46a2-96b1-cc08ae3987f6\">\n",
              "    <div class=\"colab-df-container\">\n",
              "      <div>\n",
              "<style scoped>\n",
              "    .dataframe tbody tr th:only-of-type {\n",
              "        vertical-align: middle;\n",
              "    }\n",
              "\n",
              "    .dataframe tbody tr th {\n",
              "        vertical-align: top;\n",
              "    }\n",
              "\n",
              "    .dataframe thead th {\n",
              "        text-align: right;\n",
              "    }\n",
              "</style>\n",
              "<table border=\"1\" class=\"dataframe\">\n",
              "  <thead>\n",
              "    <tr style=\"text-align: right;\">\n",
              "      <th></th>\n",
              "      <th>Overall rank</th>\n",
              "      <th>Country or region</th>\n",
              "      <th>Score</th>\n",
              "      <th>GDP per capita</th>\n",
              "      <th>Social support</th>\n",
              "      <th>Healthy life expectancy</th>\n",
              "      <th>Freedom to make life choices</th>\n",
              "      <th>Generosity</th>\n",
              "      <th>Perceptions of corruption</th>\n",
              "    </tr>\n",
              "  </thead>\n",
              "  <tbody>\n",
              "    <tr>\n",
              "      <th>128</th>\n",
              "      <td>129</td>\n",
              "      <td>Mauritania</td>\n",
              "      <td>4.375</td>\n",
              "      <td>0.540</td>\n",
              "      <td>1.113</td>\n",
              "      <td>0.425</td>\n",
              "      <td>0.186</td>\n",
              "      <td>0.129</td>\n",
              "      <td>0.122</td>\n",
              "    </tr>\n",
              "    <tr>\n",
              "      <th>129</th>\n",
              "      <td>130</td>\n",
              "      <td>Sri Lanka</td>\n",
              "      <td>4.327</td>\n",
              "      <td>0.898</td>\n",
              "      <td>1.195</td>\n",
              "      <td>0.792</td>\n",
              "      <td>0.529</td>\n",
              "      <td>0.253</td>\n",
              "      <td>0.049</td>\n",
              "    </tr>\n",
              "    <tr>\n",
              "      <th>130</th>\n",
              "      <td>131</td>\n",
              "      <td>Congo (Kinshasa)</td>\n",
              "      <td>4.311</td>\n",
              "      <td>0.062</td>\n",
              "      <td>0.833</td>\n",
              "      <td>0.277</td>\n",
              "      <td>0.365</td>\n",
              "      <td>0.254</td>\n",
              "      <td>0.081</td>\n",
              "    </tr>\n",
              "    <tr>\n",
              "      <th>131</th>\n",
              "      <td>132</td>\n",
              "      <td>Eswatini</td>\n",
              "      <td>4.308</td>\n",
              "      <td>0.828</td>\n",
              "      <td>1.065</td>\n",
              "      <td>0.216</td>\n",
              "      <td>0.300</td>\n",
              "      <td>0.067</td>\n",
              "      <td>0.147</td>\n",
              "    </tr>\n",
              "    <tr>\n",
              "      <th>132</th>\n",
              "      <td>133</td>\n",
              "      <td>Myanmar</td>\n",
              "      <td>4.308</td>\n",
              "      <td>0.678</td>\n",
              "      <td>1.098</td>\n",
              "      <td>0.495</td>\n",
              "      <td>0.597</td>\n",
              "      <td>0.570</td>\n",
              "      <td>0.188</td>\n",
              "    </tr>\n",
              "    <tr>\n",
              "      <th>133</th>\n",
              "      <td>134</td>\n",
              "      <td>Comoros</td>\n",
              "      <td>4.289</td>\n",
              "      <td>0.416</td>\n",
              "      <td>0.723</td>\n",
              "      <td>0.437</td>\n",
              "      <td>0.181</td>\n",
              "      <td>0.259</td>\n",
              "      <td>0.100</td>\n",
              "    </tr>\n",
              "    <tr>\n",
              "      <th>134</th>\n",
              "      <td>135</td>\n",
              "      <td>Togo</td>\n",
              "      <td>4.187</td>\n",
              "      <td>0.268</td>\n",
              "      <td>0.548</td>\n",
              "      <td>0.343</td>\n",
              "      <td>0.304</td>\n",
              "      <td>0.201</td>\n",
              "      <td>0.115</td>\n",
              "    </tr>\n",
              "    <tr>\n",
              "      <th>135</th>\n",
              "      <td>136</td>\n",
              "      <td>Ethiopia</td>\n",
              "      <td>4.186</td>\n",
              "      <td>0.315</td>\n",
              "      <td>1.001</td>\n",
              "      <td>0.484</td>\n",
              "      <td>0.413</td>\n",
              "      <td>0.228</td>\n",
              "      <td>0.117</td>\n",
              "    </tr>\n",
              "    <tr>\n",
              "      <th>136</th>\n",
              "      <td>137</td>\n",
              "      <td>Madagascar</td>\n",
              "      <td>4.166</td>\n",
              "      <td>0.245</td>\n",
              "      <td>0.824</td>\n",
              "      <td>0.501</td>\n",
              "      <td>0.193</td>\n",
              "      <td>0.191</td>\n",
              "      <td>0.076</td>\n",
              "    </tr>\n",
              "    <tr>\n",
              "      <th>137</th>\n",
              "      <td>138</td>\n",
              "      <td>Egypt</td>\n",
              "      <td>4.151</td>\n",
              "      <td>0.875</td>\n",
              "      <td>0.983</td>\n",
              "      <td>0.597</td>\n",
              "      <td>0.374</td>\n",
              "      <td>0.069</td>\n",
              "      <td>0.095</td>\n",
              "    </tr>\n",
              "    <tr>\n",
              "      <th>138</th>\n",
              "      <td>139</td>\n",
              "      <td>Sierra Leone</td>\n",
              "      <td>3.926</td>\n",
              "      <td>0.241</td>\n",
              "      <td>0.748</td>\n",
              "      <td>0.204</td>\n",
              "      <td>0.382</td>\n",
              "      <td>0.258</td>\n",
              "      <td>0.048</td>\n",
              "    </tr>\n",
              "    <tr>\n",
              "      <th>139</th>\n",
              "      <td>140</td>\n",
              "      <td>Burundi</td>\n",
              "      <td>3.775</td>\n",
              "      <td>0.000</td>\n",
              "      <td>0.404</td>\n",
              "      <td>0.295</td>\n",
              "      <td>0.275</td>\n",
              "      <td>0.187</td>\n",
              "      <td>0.212</td>\n",
              "    </tr>\n",
              "    <tr>\n",
              "      <th>140</th>\n",
              "      <td>141</td>\n",
              "      <td>Zambia</td>\n",
              "      <td>3.759</td>\n",
              "      <td>0.537</td>\n",
              "      <td>0.896</td>\n",
              "      <td>0.364</td>\n",
              "      <td>0.491</td>\n",
              "      <td>0.251</td>\n",
              "      <td>0.087</td>\n",
              "    </tr>\n",
              "    <tr>\n",
              "      <th>141</th>\n",
              "      <td>142</td>\n",
              "      <td>Haiti</td>\n",
              "      <td>3.721</td>\n",
              "      <td>0.285</td>\n",
              "      <td>0.647</td>\n",
              "      <td>0.374</td>\n",
              "      <td>0.169</td>\n",
              "      <td>0.464</td>\n",
              "      <td>0.162</td>\n",
              "    </tr>\n",
              "    <tr>\n",
              "      <th>142</th>\n",
              "      <td>143</td>\n",
              "      <td>Lesotho</td>\n",
              "      <td>3.653</td>\n",
              "      <td>0.455</td>\n",
              "      <td>1.089</td>\n",
              "      <td>0.101</td>\n",
              "      <td>0.409</td>\n",
              "      <td>0.103</td>\n",
              "      <td>0.050</td>\n",
              "    </tr>\n",
              "    <tr>\n",
              "      <th>143</th>\n",
              "      <td>144</td>\n",
              "      <td>India</td>\n",
              "      <td>3.573</td>\n",
              "      <td>0.731</td>\n",
              "      <td>0.644</td>\n",
              "      <td>0.541</td>\n",
              "      <td>0.581</td>\n",
              "      <td>0.237</td>\n",
              "      <td>0.106</td>\n",
              "    </tr>\n",
              "    <tr>\n",
              "      <th>144</th>\n",
              "      <td>145</td>\n",
              "      <td>Malawi</td>\n",
              "      <td>3.538</td>\n",
              "      <td>0.177</td>\n",
              "      <td>0.530</td>\n",
              "      <td>0.446</td>\n",
              "      <td>0.487</td>\n",
              "      <td>0.213</td>\n",
              "      <td>0.132</td>\n",
              "    </tr>\n",
              "    <tr>\n",
              "      <th>145</th>\n",
              "      <td>146</td>\n",
              "      <td>Yemen</td>\n",
              "      <td>3.527</td>\n",
              "      <td>0.393</td>\n",
              "      <td>1.177</td>\n",
              "      <td>0.415</td>\n",
              "      <td>0.244</td>\n",
              "      <td>0.095</td>\n",
              "      <td>0.087</td>\n",
              "    </tr>\n",
              "    <tr>\n",
              "      <th>146</th>\n",
              "      <td>147</td>\n",
              "      <td>Botswana</td>\n",
              "      <td>3.479</td>\n",
              "      <td>0.998</td>\n",
              "      <td>1.086</td>\n",
              "      <td>0.494</td>\n",
              "      <td>0.509</td>\n",
              "      <td>0.033</td>\n",
              "      <td>0.102</td>\n",
              "    </tr>\n",
              "    <tr>\n",
              "      <th>147</th>\n",
              "      <td>148</td>\n",
              "      <td>Tanzania</td>\n",
              "      <td>3.476</td>\n",
              "      <td>0.457</td>\n",
              "      <td>0.873</td>\n",
              "      <td>0.443</td>\n",
              "      <td>0.509</td>\n",
              "      <td>0.272</td>\n",
              "      <td>0.204</td>\n",
              "    </tr>\n",
              "    <tr>\n",
              "      <th>148</th>\n",
              "      <td>149</td>\n",
              "      <td>Central African Republic</td>\n",
              "      <td>3.476</td>\n",
              "      <td>0.041</td>\n",
              "      <td>0.000</td>\n",
              "      <td>0.000</td>\n",
              "      <td>0.293</td>\n",
              "      <td>0.254</td>\n",
              "      <td>0.028</td>\n",
              "    </tr>\n",
              "    <tr>\n",
              "      <th>149</th>\n",
              "      <td>150</td>\n",
              "      <td>Rwanda</td>\n",
              "      <td>3.312</td>\n",
              "      <td>0.343</td>\n",
              "      <td>0.523</td>\n",
              "      <td>0.572</td>\n",
              "      <td>0.604</td>\n",
              "      <td>0.236</td>\n",
              "      <td>0.486</td>\n",
              "    </tr>\n",
              "    <tr>\n",
              "      <th>150</th>\n",
              "      <td>151</td>\n",
              "      <td>Zimbabwe</td>\n",
              "      <td>3.299</td>\n",
              "      <td>0.426</td>\n",
              "      <td>1.048</td>\n",
              "      <td>0.375</td>\n",
              "      <td>0.377</td>\n",
              "      <td>0.151</td>\n",
              "      <td>0.081</td>\n",
              "    </tr>\n",
              "    <tr>\n",
              "      <th>151</th>\n",
              "      <td>152</td>\n",
              "      <td>South Sudan</td>\n",
              "      <td>2.817</td>\n",
              "      <td>0.289</td>\n",
              "      <td>0.553</td>\n",
              "      <td>0.209</td>\n",
              "      <td>0.066</td>\n",
              "      <td>0.210</td>\n",
              "      <td>0.111</td>\n",
              "    </tr>\n",
              "    <tr>\n",
              "      <th>152</th>\n",
              "      <td>153</td>\n",
              "      <td>Afghanistan</td>\n",
              "      <td>2.567</td>\n",
              "      <td>0.301</td>\n",
              "      <td>0.356</td>\n",
              "      <td>0.266</td>\n",
              "      <td>0.000</td>\n",
              "      <td>0.135</td>\n",
              "      <td>0.001</td>\n",
              "    </tr>\n",
              "  </tbody>\n",
              "</table>\n",
              "</div>\n",
              "      <button class=\"colab-df-convert\" onclick=\"convertToInteractive('df-461c953b-d713-46a2-96b1-cc08ae3987f6')\"\n",
              "              title=\"Convert this dataframe to an interactive table.\"\n",
              "              style=\"display:none;\">\n",
              "        \n",
              "  <svg xmlns=\"http://www.w3.org/2000/svg\" height=\"24px\"viewBox=\"0 0 24 24\"\n",
              "       width=\"24px\">\n",
              "    <path d=\"M0 0h24v24H0V0z\" fill=\"none\"/>\n",
              "    <path d=\"M18.56 5.44l.94 2.06.94-2.06 2.06-.94-2.06-.94-.94-2.06-.94 2.06-2.06.94zm-11 1L8.5 8.5l.94-2.06 2.06-.94-2.06-.94L8.5 2.5l-.94 2.06-2.06.94zm10 10l.94 2.06.94-2.06 2.06-.94-2.06-.94-.94-2.06-.94 2.06-2.06.94z\"/><path d=\"M17.41 7.96l-1.37-1.37c-.4-.4-.92-.59-1.43-.59-.52 0-1.04.2-1.43.59L10.3 9.45l-7.72 7.72c-.78.78-.78 2.05 0 2.83L4 21.41c.39.39.9.59 1.41.59.51 0 1.02-.2 1.41-.59l7.78-7.78 2.81-2.81c.8-.78.8-2.07 0-2.86zM5.41 20L4 18.59l7.72-7.72 1.47 1.35L5.41 20z\"/>\n",
              "  </svg>\n",
              "      </button>\n",
              "      \n",
              "  <style>\n",
              "    .colab-df-container {\n",
              "      display:flex;\n",
              "      flex-wrap:wrap;\n",
              "      gap: 12px;\n",
              "    }\n",
              "\n",
              "    .colab-df-convert {\n",
              "      background-color: #E8F0FE;\n",
              "      border: none;\n",
              "      border-radius: 50%;\n",
              "      cursor: pointer;\n",
              "      display: none;\n",
              "      fill: #1967D2;\n",
              "      height: 32px;\n",
              "      padding: 0 0 0 0;\n",
              "      width: 32px;\n",
              "    }\n",
              "\n",
              "    .colab-df-convert:hover {\n",
              "      background-color: #E2EBFA;\n",
              "      box-shadow: 0px 1px 2px rgba(60, 64, 67, 0.3), 0px 1px 3px 1px rgba(60, 64, 67, 0.15);\n",
              "      fill: #174EA6;\n",
              "    }\n",
              "\n",
              "    [theme=dark] .colab-df-convert {\n",
              "      background-color: #3B4455;\n",
              "      fill: #D2E3FC;\n",
              "    }\n",
              "\n",
              "    [theme=dark] .colab-df-convert:hover {\n",
              "      background-color: #434B5C;\n",
              "      box-shadow: 0px 1px 3px 1px rgba(0, 0, 0, 0.15);\n",
              "      filter: drop-shadow(0px 1px 2px rgba(0, 0, 0, 0.3));\n",
              "      fill: #FFFFFF;\n",
              "    }\n",
              "  </style>\n",
              "\n",
              "      <script>\n",
              "        const buttonEl =\n",
              "          document.querySelector('#df-461c953b-d713-46a2-96b1-cc08ae3987f6 button.colab-df-convert');\n",
              "        buttonEl.style.display =\n",
              "          google.colab.kernel.accessAllowed ? 'block' : 'none';\n",
              "\n",
              "        async function convertToInteractive(key) {\n",
              "          const element = document.querySelector('#df-461c953b-d713-46a2-96b1-cc08ae3987f6');\n",
              "          const dataTable =\n",
              "            await google.colab.kernel.invokeFunction('convertToInteractive',\n",
              "                                                     [key], {});\n",
              "          if (!dataTable) return;\n",
              "\n",
              "          const docLinkHtml = 'Like what you see? Visit the ' +\n",
              "            '<a target=\"_blank\" href=https://colab.research.google.com/notebooks/data_table.ipynb>data table notebook</a>'\n",
              "            + ' to learn more about interactive tables.';\n",
              "          element.innerHTML = '';\n",
              "          dataTable['output_type'] = 'display_data';\n",
              "          await google.colab.output.renderOutput(dataTable, element);\n",
              "          const docLink = document.createElement('div');\n",
              "          docLink.innerHTML = docLinkHtml;\n",
              "          element.appendChild(docLink);\n",
              "        }\n",
              "      </script>\n",
              "    </div>\n",
              "  </div>\n",
              "  "
            ],
            "text/plain": [
              "     Overall rank  ... Perceptions of corruption\n",
              "128           129  ...                     0.122\n",
              "129           130  ...                     0.049\n",
              "130           131  ...                     0.081\n",
              "131           132  ...                     0.147\n",
              "132           133  ...                     0.188\n",
              "133           134  ...                     0.100\n",
              "134           135  ...                     0.115\n",
              "135           136  ...                     0.117\n",
              "136           137  ...                     0.076\n",
              "137           138  ...                     0.095\n",
              "138           139  ...                     0.048\n",
              "139           140  ...                     0.212\n",
              "140           141  ...                     0.087\n",
              "141           142  ...                     0.162\n",
              "142           143  ...                     0.050\n",
              "143           144  ...                     0.106\n",
              "144           145  ...                     0.132\n",
              "145           146  ...                     0.087\n",
              "146           147  ...                     0.102\n",
              "147           148  ...                     0.204\n",
              "148           149  ...                     0.028\n",
              "149           150  ...                     0.486\n",
              "150           151  ...                     0.081\n",
              "151           152  ...                     0.111\n",
              "152           153  ...                     0.001\n",
              "\n",
              "[25 rows x 9 columns]"
            ]
          },
          "metadata": {},
          "execution_count": 37
        }
      ]
    },
    {
      "cell_type": "code",
      "metadata": {
        "id": "xF82frWiI9qP"
      },
      "source": [
        "df = df.tail(25)"
      ],
      "execution_count": 38,
      "outputs": []
    },
    {
      "cell_type": "code",
      "metadata": {
        "id": "lU9CfOqSJG-U"
      },
      "source": [
        "df[ [\"Country or region\", \"Score\"]].to_csv(\"WHRdataB25.csv\")"
      ],
      "execution_count": 39,
      "outputs": []
    },
    {
      "cell_type": "code",
      "source": [
        "files.download(\"WHRdataB25.csv\")"
      ],
      "metadata": {
        "colab": {
          "base_uri": "https://localhost:8080/",
          "height": 17
        },
        "id": "eP8Hxfn0fqPi",
        "outputId": "5a7b55ab-540e-48b3-80d5-37f3336c763b"
      },
      "execution_count": 40,
      "outputs": [
        {
          "output_type": "display_data",
          "data": {
            "application/javascript": [
              "\n",
              "    async function download(id, filename, size) {\n",
              "      if (!google.colab.kernel.accessAllowed) {\n",
              "        return;\n",
              "      }\n",
              "      const div = document.createElement('div');\n",
              "      const label = document.createElement('label');\n",
              "      label.textContent = `Downloading \"${filename}\": `;\n",
              "      div.appendChild(label);\n",
              "      const progress = document.createElement('progress');\n",
              "      progress.max = size;\n",
              "      div.appendChild(progress);\n",
              "      document.body.appendChild(div);\n",
              "\n",
              "      const buffers = [];\n",
              "      let downloaded = 0;\n",
              "\n",
              "      const channel = await google.colab.kernel.comms.open(id);\n",
              "      // Send a message to notify the kernel that we're ready.\n",
              "      channel.send({})\n",
              "\n",
              "      for await (const message of channel.messages) {\n",
              "        // Send a message to notify the kernel that we're ready.\n",
              "        channel.send({})\n",
              "        if (message.buffers) {\n",
              "          for (const buffer of message.buffers) {\n",
              "            buffers.push(buffer);\n",
              "            downloaded += buffer.byteLength;\n",
              "            progress.value = downloaded;\n",
              "          }\n",
              "        }\n",
              "      }\n",
              "      const blob = new Blob(buffers, {type: 'application/binary'});\n",
              "      const a = document.createElement('a');\n",
              "      a.href = window.URL.createObjectURL(blob);\n",
              "      a.download = filename;\n",
              "      div.appendChild(a);\n",
              "      a.click();\n",
              "      div.remove();\n",
              "    }\n",
              "  "
            ],
            "text/plain": [
              "<IPython.core.display.Javascript object>"
            ]
          },
          "metadata": {}
        },
        {
          "output_type": "display_data",
          "data": {
            "application/javascript": [
              "download(\"download_c3a179de-578a-46ff-940f-95882cf0f41c\", \"WHRdataB25.csv\", 604)"
            ],
            "text/plain": [
              "<IPython.core.display.Javascript object>"
            ]
          },
          "metadata": {}
        }
      ]
    },
    {
      "cell_type": "code",
      "metadata": {
        "id": "gWMz2edHiYa0"
      },
      "source": [
        "# done! basic scraping :)"
      ],
      "execution_count": 41,
      "outputs": []
    }
  ]
}