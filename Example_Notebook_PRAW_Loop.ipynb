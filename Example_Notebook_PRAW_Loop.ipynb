{
 "cells": [
  {
   "cell_type": "code",
   "execution_count": 1,
   "metadata": {
    "id": "qyx_qhTkET4Z"
   },
   "outputs": [],
   "source": [
    "# Using a loop and the Pushift PRAW API to gather posts from r/stocks"
   ]
  },
  {
   "cell_type": "code",
   "execution_count": 2,
   "metadata": {
    "colab": {
     "base_uri": "https://localhost:8080/"
    },
    "id": "fGbrEBsYCt3x",
    "outputId": "11cccbef-1e4a-44db-9606-baa5989f1f22"
   },
   "outputs": [
    {
     "name": "stdout",
     "output_type": "stream",
     "text": [
      "Requirement already satisfied: praw in c:\\users\\poppa\\anaconda3\\lib\\site-packages (7.5.0)\n",
      "Requirement already satisfied: update-checker>=0.18 in c:\\users\\poppa\\anaconda3\\lib\\site-packages (from praw) (0.18.0)\n",
      "Requirement already satisfied: prawcore<3,>=2.1 in c:\\users\\poppa\\anaconda3\\lib\\site-packages (from praw) (2.3.0)\n",
      "Requirement already satisfied: websocket-client>=0.54.0 in c:\\users\\poppa\\anaconda3\\lib\\site-packages (from praw) (1.2.3)\n",
      "Requirement already satisfied: requests<3.0,>=2.6.0 in c:\\users\\poppa\\anaconda3\\lib\\site-packages (from prawcore<3,>=2.1->praw) (2.26.0)\n",
      "Requirement already satisfied: charset-normalizer~=2.0.0 in c:\\users\\poppa\\anaconda3\\lib\\site-packages (from requests<3.0,>=2.6.0->prawcore<3,>=2.1->praw) (2.0.4)\n",
      "Requirement already satisfied: idna<4,>=2.5 in c:\\users\\poppa\\anaconda3\\lib\\site-packages (from requests<3.0,>=2.6.0->prawcore<3,>=2.1->praw) (3.2)\n",
      "Requirement already satisfied: urllib3<1.27,>=1.21.1 in c:\\users\\poppa\\anaconda3\\lib\\site-packages (from requests<3.0,>=2.6.0->prawcore<3,>=2.1->praw) (1.26.7)\n",
      "Requirement already satisfied: certifi>=2017.4.17 in c:\\users\\poppa\\anaconda3\\lib\\site-packages (from requests<3.0,>=2.6.0->prawcore<3,>=2.1->praw) (2021.10.8)\n"
     ]
    }
   ],
   "source": [
    "!pip install praw"
   ]
  },
  {
   "cell_type": "code",
   "execution_count": 3,
   "metadata": {
    "id": "HAZSnl0ECmZ6"
   },
   "outputs": [],
   "source": [
    "import pandas as pd\n",
    "import requests\n",
    "import time\n",
    "import praw"
   ]
  },
  {
   "cell_type": "code",
   "execution_count": 4,
   "metadata": {},
   "outputs": [],
   "source": [
    "# authentication information:"
   ]
  },
  {
   "cell_type": "code",
   "execution_count": 5,
   "metadata": {
    "colab": {
     "base_uri": "https://localhost:8080/"
    },
    "id": "SvR0m31OCyuH",
    "outputId": "3689577c-6e14-460a-f6f2-faad4e03373d"
   },
   "outputs": [
    {
     "name": "stdout",
     "output_type": "stream",
     "text": [
      "https://www.reddit.com/api/v1/authorize?client_id=Jef0auDOdnMZ9vD6zlcWRg&duration=permanent&redirect_uri=http%3A%2F%2Flocalhost%3A8080&response_type=code&scope=identity&state=...\n"
     ]
    }
   ],
   "source": [
    "reddit = praw.Reddit(\n",
    "    client_id=\"Jef0auDOdnMZ9vD6zlcWRg\",\n",
    "    client_secret=\"XqXCuNc590taBMgauwFmMBpDqvZp0A\",\n",
    "    user_agent=\"poppaearedditapilink\",\n",
    "    redirect_uri=\"http://localhost:8080\",\n",
    ")\n",
    "print(reddit.auth.url([\"identity\"], \"...\", \"permanent\"))"
   ]
  },
  {
   "cell_type": "code",
   "execution_count": null,
   "metadata": {},
   "outputs": [],
   "source": []
  },
  {
   "cell_type": "code",
   "execution_count": 6,
   "metadata": {
    "id": "1GoTiv_LDwRd"
   },
   "outputs": [],
   "source": [
    "def submissions_pushshift_praw(subreddit, start=None, end=None, limit=10000, extra_query=\"\"):\n",
    "\n",
    "    # creating an array to contain submissions\n",
    "    posts = [] \n",
    "    \n",
    "\n",
    "\n",
    "    # preparing api link with {} for inputs specified later\n",
    "    api = ('https://api.pushshift.io/reddit/submission/search/?subreddit={}&after={}&before={}&sort_type=created_utc&sort=asc&limit={}&q={}')\n",
    "    api = api.format(subreddit, start, end, limit, extra_query)\n",
    "\n",
    "    # Using the api to fetch data in JSON form\n",
    "    data = requests.get(api)\n",
    "    json_data = data.json()['data']\n",
    "\n",
    "    # Using a for loop to iterate over each submission, convert them to a praw_submission object, and append them to posts\n",
    "    for submission in json_data:\n",
    "        # Take the ID, fetch the PRAW submission object, and append to our list\n",
    "        praw_submission = reddit.submission(id=submission['id'])\n",
    "        posts.append(praw_submission)\n",
    "\n",
    "    return posts\n"
   ]
  },
  {
   "cell_type": "code",
   "execution_count": 7,
   "metadata": {
    "id": "ZSyRB_1aDfDR"
   },
   "outputs": [],
   "source": [
    "start_date = 1640304000 # Christmas Eve - 00:00:00\n",
    "end_date = 1640390400  # Christmas Day 00:00:00"
   ]
  },
  {
   "cell_type": "code",
   "execution_count": 8,
   "metadata": {
    "id": "hZlT8UWQECWa"
   },
   "outputs": [],
   "source": [
    "df = pd.DataFrame(columns=['title', 'body', 'created'])"
   ]
  },
  {
   "cell_type": "code",
   "execution_count": 9,
   "metadata": {
    "colab": {
     "base_uri": "https://localhost:8080/"
    },
    "id": "EVr3RymHEEG3",
    "outputId": "9d5028c5-8b29-4025-a8ed-c18b1f04968f"
   },
   "outputs": [],
   "source": [
    "# checking that the start date is infact before the end date, as a requirement for continuing to run the body of the loop\n",
    "while start_date < end_date:\n",
    "    # setting input values for our earlier url\n",
    "    S = submissions_pushshift_praw(subreddit='stocks', start=start_date, end=end_date)\n",
    "    # using a for loop over each post:\n",
    "    for post in S:\n",
    "        # stopping the loop from fetching deleted or removed posts\n",
    "        try:\n",
    "            if post.selftext != '[removed]' and post.selftext != '[deleted]':\n",
    "\n",
    "\n",
    "                    df = df.append(\n",
    "                        {'title': post.title,\n",
    "                         'body': post.selftext,\n",
    "                         'created': post.created}, ignore_index=True)\n",
    "        except:\n",
    "            # telling the loop to continue regardless of errors\n",
    "            next()\n",
    "\n",
    "    # telling the loop when to stop\n",
    "    if len(S) < 100:\n",
    "        break\n",
    "    # making sure posts pull from the next earliest date value\n",
    "    start_date = df['created'].max()\n",
    "    print(start_date)"
   ]
  },
  {
   "cell_type": "code",
   "execution_count": 10,
   "metadata": {
    "id": "K3hNChtDEJuY"
   },
   "outputs": [],
   "source": [
    "df['created'] = pd.to_datetime(df['created'],unit='s') # converting out of unix times"
   ]
  },
  {
   "cell_type": "code",
   "execution_count": 11,
   "metadata": {},
   "outputs": [
    {
     "data": {
      "text/html": [
       "<div>\n",
       "<style scoped>\n",
       "    .dataframe tbody tr th:only-of-type {\n",
       "        vertical-align: middle;\n",
       "    }\n",
       "\n",
       "    .dataframe tbody tr th {\n",
       "        vertical-align: top;\n",
       "    }\n",
       "\n",
       "    .dataframe thead th {\n",
       "        text-align: right;\n",
       "    }\n",
       "</style>\n",
       "<table border=\"1\" class=\"dataframe\">\n",
       "  <thead>\n",
       "    <tr style=\"text-align: right;\">\n",
       "      <th></th>\n",
       "      <th>title</th>\n",
       "      <th>body</th>\n",
       "      <th>created</th>\n",
       "    </tr>\n",
       "  </thead>\n",
       "  <tbody>\n",
       "    <tr>\n",
       "      <th>0</th>\n",
       "      <td>How do you deal with frustration of missing ou...</td>\n",
       "      <td>I took a gamble on monday by risking 230$ on a...</td>\n",
       "      <td>2021-12-24 00:30:31</td>\n",
       "    </tr>\n",
       "    <tr>\n",
       "      <th>1</th>\n",
       "      <td>Hypothetical: China begins invasion of Taiwan,...</td>\n",
       "      <td>There are two schools of thought on this:\\n\\n*...</td>\n",
       "      <td>2021-12-24 01:22:59</td>\n",
       "    </tr>\n",
       "    <tr>\n",
       "      <th>2</th>\n",
       "      <td>Favorite trade signal analysts to follow?</td>\n",
       "      <td>I am currently looking for people who follow t...</td>\n",
       "      <td>2021-12-24 01:24:06</td>\n",
       "    </tr>\n",
       "    <tr>\n",
       "      <th>3</th>\n",
       "      <td>Tencent to Hand $16 Billion Stake in JD.com to...</td>\n",
       "      <td>Internet giant Tencent Holdings Ltd. is planni...</td>\n",
       "      <td>2021-12-24 03:45:27</td>\n",
       "    </tr>\n",
       "    <tr>\n",
       "      <th>4</th>\n",
       "      <td>How do invest into the s&amp;p 500?</td>\n",
       "      <td>Can i invest like 10 dollars into It or do I h...</td>\n",
       "      <td>2021-12-24 04:08:16</td>\n",
       "    </tr>\n",
       "    <tr>\n",
       "      <th>5</th>\n",
       "      <td>Thoughts about Walmart WMT fourth quarter</td>\n",
       "      <td>With the fourth quarter ending December 31,\\nj...</td>\n",
       "      <td>2021-12-24 04:41:55</td>\n",
       "    </tr>\n",
       "    <tr>\n",
       "      <th>6</th>\n",
       "      <td>Who is the best CEO right now and which CEO sh...</td>\n",
       "      <td>And I don't mean the charismatic and messianic...</td>\n",
       "      <td>2021-12-24 06:06:30</td>\n",
       "    </tr>\n",
       "    <tr>\n",
       "      <th>7</th>\n",
       "      <td>2021 Lookback : Low Profile stocks that made b...</td>\n",
       "      <td>What are your favorite lesser known stocks tha...</td>\n",
       "      <td>2021-12-24 10:23:47</td>\n",
       "    </tr>\n",
       "    <tr>\n",
       "      <th>8</th>\n",
       "      <td>r/Stocks Daily Discussion &amp; Fundamentals Frida...</td>\n",
       "      <td>This is the daily discussion, so anything stoc...</td>\n",
       "      <td>2021-12-24 10:30:11</td>\n",
       "    </tr>\n",
       "    <tr>\n",
       "      <th>9</th>\n",
       "      <td>r/Stocks Daily Thread on Meme Stocks Friday - ...</td>\n",
       "      <td>The meme stock scheduled posts will run Mon to...</td>\n",
       "      <td>2021-12-24 12:00:18</td>\n",
       "    </tr>\n",
       "    <tr>\n",
       "      <th>10</th>\n",
       "      <td>Few ideas on why Burry bought LMT and how to i...</td>\n",
       "      <td>Hello world\\n\\nFew months ago I wrote a bearis...</td>\n",
       "      <td>2021-12-24 13:15:27</td>\n",
       "    </tr>\n",
       "    <tr>\n",
       "      <th>11</th>\n",
       "      <td>Index funds that don’t issue dividends</td>\n",
       "      <td>So I’m currently 23, (hopefully) earning a mon...</td>\n",
       "      <td>2021-12-24 13:18:23</td>\n",
       "    </tr>\n",
       "    <tr>\n",
       "      <th>12</th>\n",
       "      <td>401k Rollover Timing Question</td>\n",
       "      <td>I’m directly rolling over my 401k from my prev...</td>\n",
       "      <td>2021-12-24 13:59:59</td>\n",
       "    </tr>\n",
       "    <tr>\n",
       "      <th>13</th>\n",
       "      <td>SPY vs VOO - Why SPY?</td>\n",
       "      <td>SPY seems to be one of the most common ETFs I ...</td>\n",
       "      <td>2021-12-24 15:22:22</td>\n",
       "    </tr>\n",
       "    <tr>\n",
       "      <th>14</th>\n",
       "      <td>Citrix stock for the long term</td>\n",
       "      <td>Is Citrix fit for long term investing? \\nRight...</td>\n",
       "      <td>2021-12-24 16:03:54</td>\n",
       "    </tr>\n",
       "    <tr>\n",
       "      <th>15</th>\n",
       "      <td>Morgan Stanley strategists say the easy return...</td>\n",
       "      <td>Some highlights of the 2022 global investment ...</td>\n",
       "      <td>2021-12-24 16:33:26</td>\n",
       "    </tr>\n",
       "    <tr>\n",
       "      <th>16</th>\n",
       "      <td>Do stocks like PG make sense in an accumulator...</td>\n",
       "      <td>To me I think of proctor and gamble more as a ...</td>\n",
       "      <td>2021-12-24 18:10:37</td>\n",
       "    </tr>\n",
       "    <tr>\n",
       "      <th>17</th>\n",
       "      <td>TGT, COST or both?</td>\n",
       "      <td>So for my \"consumer staples inflation protecti...</td>\n",
       "      <td>2021-12-24 18:27:30</td>\n",
       "    </tr>\n",
       "    <tr>\n",
       "      <th>18</th>\n",
       "      <td>Can somebody help me clear confusing regarding...</td>\n",
       "      <td>This is confusing me as hell. If a stock has p...</td>\n",
       "      <td>2021-12-24 19:38:08</td>\n",
       "    </tr>\n",
       "    <tr>\n",
       "      <th>19</th>\n",
       "      <td>Do expense ratios for ETF’s hurt much when you...</td>\n",
       "      <td>If I was to invest just a thousand or so into ...</td>\n",
       "      <td>2021-12-24 19:38:43</td>\n",
       "    </tr>\n",
       "    <tr>\n",
       "      <th>20</th>\n",
       "      <td>This is beyond depressing. How is anyone going...</td>\n",
       "      <td>According to the Transamerica Center for Retir...</td>\n",
       "      <td>2021-12-24 21:06:28</td>\n",
       "    </tr>\n",
       "  </tbody>\n",
       "</table>\n",
       "</div>"
      ],
      "text/plain": [
       "                                                title  \\\n",
       "0   How do you deal with frustration of missing ou...   \n",
       "1   Hypothetical: China begins invasion of Taiwan,...   \n",
       "2           Favorite trade signal analysts to follow?   \n",
       "3   Tencent to Hand $16 Billion Stake in JD.com to...   \n",
       "4                     How do invest into the s&p 500?   \n",
       "5           Thoughts about Walmart WMT fourth quarter   \n",
       "6   Who is the best CEO right now and which CEO sh...   \n",
       "7   2021 Lookback : Low Profile stocks that made b...   \n",
       "8   r/Stocks Daily Discussion & Fundamentals Frida...   \n",
       "9   r/Stocks Daily Thread on Meme Stocks Friday - ...   \n",
       "10  Few ideas on why Burry bought LMT and how to i...   \n",
       "11             Index funds that don’t issue dividends   \n",
       "12                      401k Rollover Timing Question   \n",
       "13                              SPY vs VOO - Why SPY?   \n",
       "14                     Citrix stock for the long term   \n",
       "15  Morgan Stanley strategists say the easy return...   \n",
       "16  Do stocks like PG make sense in an accumulator...   \n",
       "17                                 TGT, COST or both?   \n",
       "18  Can somebody help me clear confusing regarding...   \n",
       "19  Do expense ratios for ETF’s hurt much when you...   \n",
       "20  This is beyond depressing. How is anyone going...   \n",
       "\n",
       "                                                 body             created  \n",
       "0   I took a gamble on monday by risking 230$ on a... 2021-12-24 00:30:31  \n",
       "1   There are two schools of thought on this:\\n\\n*... 2021-12-24 01:22:59  \n",
       "2   I am currently looking for people who follow t... 2021-12-24 01:24:06  \n",
       "3   Internet giant Tencent Holdings Ltd. is planni... 2021-12-24 03:45:27  \n",
       "4   Can i invest like 10 dollars into It or do I h... 2021-12-24 04:08:16  \n",
       "5   With the fourth quarter ending December 31,\\nj... 2021-12-24 04:41:55  \n",
       "6   And I don't mean the charismatic and messianic... 2021-12-24 06:06:30  \n",
       "7   What are your favorite lesser known stocks tha... 2021-12-24 10:23:47  \n",
       "8   This is the daily discussion, so anything stoc... 2021-12-24 10:30:11  \n",
       "9   The meme stock scheduled posts will run Mon to... 2021-12-24 12:00:18  \n",
       "10  Hello world\\n\\nFew months ago I wrote a bearis... 2021-12-24 13:15:27  \n",
       "11  So I’m currently 23, (hopefully) earning a mon... 2021-12-24 13:18:23  \n",
       "12  I’m directly rolling over my 401k from my prev... 2021-12-24 13:59:59  \n",
       "13  SPY seems to be one of the most common ETFs I ... 2021-12-24 15:22:22  \n",
       "14  Is Citrix fit for long term investing? \\nRight... 2021-12-24 16:03:54  \n",
       "15  Some highlights of the 2022 global investment ... 2021-12-24 16:33:26  \n",
       "16  To me I think of proctor and gamble more as a ... 2021-12-24 18:10:37  \n",
       "17  So for my \"consumer staples inflation protecti... 2021-12-24 18:27:30  \n",
       "18  This is confusing me as hell. If a stock has p... 2021-12-24 19:38:08  \n",
       "19  If I was to invest just a thousand or so into ... 2021-12-24 19:38:43  \n",
       "20  According to the Transamerica Center for Retir... 2021-12-24 21:06:28  "
      ]
     },
     "execution_count": 11,
     "metadata": {},
     "output_type": "execute_result"
    }
   ],
   "source": [
    "df"
   ]
  },
  {
   "cell_type": "code",
   "execution_count": 12,
   "metadata": {
    "id": "tpXwtwlyERy6"
   },
   "outputs": [],
   "source": [
    "df[\"text\"] = df[\"title\"] + df[\"body\"]"
   ]
  },
  {
   "cell_type": "code",
   "execution_count": 13,
   "metadata": {},
   "outputs": [],
   "source": [
    "df = df.drop([\"title\", \"body\"], axis = 1)"
   ]
  },
  {
   "cell_type": "code",
   "execution_count": 14,
   "metadata": {},
   "outputs": [
    {
     "name": "stdout",
     "output_type": "stream",
     "text": [
      "Requirement already satisfied: TextBlob in c:\\users\\poppa\\anaconda3\\lib\\site-packages (0.17.1)\n",
      "Requirement already satisfied: nltk>=3.1 in c:\\users\\poppa\\anaconda3\\lib\\site-packages (from TextBlob) (3.6.5)\n",
      "Requirement already satisfied: click in c:\\users\\poppa\\anaconda3\\lib\\site-packages (from nltk>=3.1->TextBlob) (8.0.3)\n",
      "Requirement already satisfied: joblib in c:\\users\\poppa\\anaconda3\\lib\\site-packages (from nltk>=3.1->TextBlob) (1.1.0)\n",
      "Requirement already satisfied: regex>=2021.8.3 in c:\\users\\poppa\\anaconda3\\lib\\site-packages (from nltk>=3.1->TextBlob) (2021.8.3)\n",
      "Requirement already satisfied: tqdm in c:\\users\\poppa\\anaconda3\\lib\\site-packages (from nltk>=3.1->TextBlob) (4.62.3)\n",
      "Requirement already satisfied: colorama in c:\\users\\poppa\\anaconda3\\lib\\site-packages (from click->nltk>=3.1->TextBlob) (0.4.4)\n"
     ]
    },
    {
     "name": "stderr",
     "output_type": "stream",
     "text": [
      "C:\\Users\\poppa\\AppData\\Local\\Temp/ipykernel_23704/2426943112.py:6: FutureWarning: The default value of regex will change from True to False in a future version.\n",
      "  text = text.str.replace(\"(<br/>)\", \"\")\n",
      "C:\\Users\\poppa\\AppData\\Local\\Temp/ipykernel_23704/2426943112.py:7: FutureWarning: The default value of regex will change from True to False in a future version.\n",
      "  text = text.str.replace('(<a).*(>).*(</a>)', '')\n",
      "C:\\Users\\poppa\\AppData\\Local\\Temp/ipykernel_23704/2426943112.py:8: FutureWarning: The default value of regex will change from True to False in a future version.\n",
      "  text = text.str.replace('(&amp)', '')\n",
      "C:\\Users\\poppa\\AppData\\Local\\Temp/ipykernel_23704/2426943112.py:9: FutureWarning: The default value of regex will change from True to False in a future version.\n",
      "  text = text.str.replace('(&gt)', '')\n",
      "C:\\Users\\poppa\\AppData\\Local\\Temp/ipykernel_23704/2426943112.py:10: FutureWarning: The default value of regex will change from True to False in a future version.\n",
      "  text = text.str.replace('(&lt)', '')\n",
      "C:\\Users\\poppa\\AppData\\Local\\Temp/ipykernel_23704/2426943112.py:11: FutureWarning: The default value of regex will change from True to False in a future version.\n",
      "  text = text.str.replace('(\\xa0)', ' ')\n"
     ]
    }
   ],
   "source": [
    "!pip install TextBlob\n",
    "from textblob import TextBlob\n",
    "\n",
    "# data pre processing from TextBlob\n",
    "def preprocess(text):\n",
    "    text = text.str.replace(\"(<br/>)\", \"\")\n",
    "    text = text.str.replace('(<a).*(>).*(</a>)', '')\n",
    "    text = text.str.replace('(&amp)', '')\n",
    "    text = text.str.replace('(&gt)', '')\n",
    "    text = text.str.replace('(&lt)', '')\n",
    "    text = text.str.replace('(\\xa0)', ' ')  \n",
    "    return text\n",
    "df['text'] = preprocess(df['text'])\n",
    "\n",
    "df['polarity'] = df['text'].map(lambda text: TextBlob(text).sentiment.polarity)\n",
    "df['review_len'] = df['text'].astype(str).apply(len)\n",
    "df['word_count'] = df['text'].apply(lambda x: len(str(x).split()))"
   ]
  },
  {
   "cell_type": "code",
   "execution_count": 15,
   "metadata": {
    "id": "cewrp1PDv1s3"
   },
   "outputs": [],
   "source": [
    "df = df.drop([\"review_len\", \"word_count\", \"text\"], axis = 1)"
   ]
  },
  {
   "cell_type": "code",
   "execution_count": 16,
   "metadata": {},
   "outputs": [
    {
     "data": {
      "text/html": [
       "<div>\n",
       "<style scoped>\n",
       "    .dataframe tbody tr th:only-of-type {\n",
       "        vertical-align: middle;\n",
       "    }\n",
       "\n",
       "    .dataframe tbody tr th {\n",
       "        vertical-align: top;\n",
       "    }\n",
       "\n",
       "    .dataframe thead th {\n",
       "        text-align: right;\n",
       "    }\n",
       "</style>\n",
       "<table border=\"1\" class=\"dataframe\">\n",
       "  <thead>\n",
       "    <tr style=\"text-align: right;\">\n",
       "      <th></th>\n",
       "      <th>created</th>\n",
       "      <th>polarity</th>\n",
       "    </tr>\n",
       "  </thead>\n",
       "  <tbody>\n",
       "    <tr>\n",
       "      <th>0</th>\n",
       "      <td>2021-12-24 00:30:31</td>\n",
       "      <td>0.124306</td>\n",
       "    </tr>\n",
       "    <tr>\n",
       "      <th>1</th>\n",
       "      <td>2021-12-24 01:22:59</td>\n",
       "      <td>0.053968</td>\n",
       "    </tr>\n",
       "    <tr>\n",
       "      <th>2</th>\n",
       "      <td>2021-12-24 01:24:06</td>\n",
       "      <td>0.258333</td>\n",
       "    </tr>\n",
       "    <tr>\n",
       "      <th>3</th>\n",
       "      <td>2021-12-24 03:45:27</td>\n",
       "      <td>0.188095</td>\n",
       "    </tr>\n",
       "    <tr>\n",
       "      <th>4</th>\n",
       "      <td>2021-12-24 04:08:16</td>\n",
       "      <td>0.162121</td>\n",
       "    </tr>\n",
       "    <tr>\n",
       "      <th>5</th>\n",
       "      <td>2021-12-24 04:41:55</td>\n",
       "      <td>0.160000</td>\n",
       "    </tr>\n",
       "    <tr>\n",
       "      <th>6</th>\n",
       "      <td>2021-12-24 06:06:30</td>\n",
       "      <td>0.399643</td>\n",
       "    </tr>\n",
       "    <tr>\n",
       "      <th>7</th>\n",
       "      <td>2021-12-24 10:23:47</td>\n",
       "      <td>0.130000</td>\n",
       "    </tr>\n",
       "    <tr>\n",
       "      <th>8</th>\n",
       "      <td>2021-12-24 10:30:11</td>\n",
       "      <td>0.019213</td>\n",
       "    </tr>\n",
       "    <tr>\n",
       "      <th>9</th>\n",
       "      <td>2021-12-24 12:00:18</td>\n",
       "      <td>0.218869</td>\n",
       "    </tr>\n",
       "    <tr>\n",
       "      <th>10</th>\n",
       "      <td>2021-12-24 13:15:27</td>\n",
       "      <td>0.123937</td>\n",
       "    </tr>\n",
       "    <tr>\n",
       "      <th>11</th>\n",
       "      <td>2021-12-24 13:18:23</td>\n",
       "      <td>0.175000</td>\n",
       "    </tr>\n",
       "    <tr>\n",
       "      <th>12</th>\n",
       "      <td>2021-12-24 13:59:59</td>\n",
       "      <td>0.005146</td>\n",
       "    </tr>\n",
       "    <tr>\n",
       "      <th>13</th>\n",
       "      <td>2021-12-24 15:22:22</td>\n",
       "      <td>0.028072</td>\n",
       "    </tr>\n",
       "    <tr>\n",
       "      <th>14</th>\n",
       "      <td>2021-12-24 16:03:54</td>\n",
       "      <td>0.158907</td>\n",
       "    </tr>\n",
       "    <tr>\n",
       "      <th>15</th>\n",
       "      <td>2021-12-24 16:33:26</td>\n",
       "      <td>0.326667</td>\n",
       "    </tr>\n",
       "    <tr>\n",
       "      <th>16</th>\n",
       "      <td>2021-12-24 18:10:37</td>\n",
       "      <td>0.130469</td>\n",
       "    </tr>\n",
       "    <tr>\n",
       "      <th>17</th>\n",
       "      <td>2021-12-24 18:27:30</td>\n",
       "      <td>0.054167</td>\n",
       "    </tr>\n",
       "    <tr>\n",
       "      <th>18</th>\n",
       "      <td>2021-12-24 19:38:08</td>\n",
       "      <td>-0.180000</td>\n",
       "    </tr>\n",
       "    <tr>\n",
       "      <th>19</th>\n",
       "      <td>2021-12-24 19:38:43</td>\n",
       "      <td>0.029286</td>\n",
       "    </tr>\n",
       "    <tr>\n",
       "      <th>20</th>\n",
       "      <td>2021-12-24 21:06:28</td>\n",
       "      <td>-0.350000</td>\n",
       "    </tr>\n",
       "  </tbody>\n",
       "</table>\n",
       "</div>"
      ],
      "text/plain": [
       "               created  polarity\n",
       "0  2021-12-24 00:30:31  0.124306\n",
       "1  2021-12-24 01:22:59  0.053968\n",
       "2  2021-12-24 01:24:06  0.258333\n",
       "3  2021-12-24 03:45:27  0.188095\n",
       "4  2021-12-24 04:08:16  0.162121\n",
       "5  2021-12-24 04:41:55  0.160000\n",
       "6  2021-12-24 06:06:30  0.399643\n",
       "7  2021-12-24 10:23:47  0.130000\n",
       "8  2021-12-24 10:30:11  0.019213\n",
       "9  2021-12-24 12:00:18  0.218869\n",
       "10 2021-12-24 13:15:27  0.123937\n",
       "11 2021-12-24 13:18:23  0.175000\n",
       "12 2021-12-24 13:59:59  0.005146\n",
       "13 2021-12-24 15:22:22  0.028072\n",
       "14 2021-12-24 16:03:54  0.158907\n",
       "15 2021-12-24 16:33:26  0.326667\n",
       "16 2021-12-24 18:10:37  0.130469\n",
       "17 2021-12-24 18:27:30  0.054167\n",
       "18 2021-12-24 19:38:08 -0.180000\n",
       "19 2021-12-24 19:38:43  0.029286\n",
       "20 2021-12-24 21:06:28 -0.350000"
      ]
     },
     "execution_count": 16,
     "metadata": {},
     "output_type": "execute_result"
    }
   ],
   "source": [
    "df"
   ]
  },
  {
   "cell_type": "code",
   "execution_count": 17,
   "metadata": {},
   "outputs": [],
   "source": [
    "# df.to_csv(r'C:\\Users\\poppa\\OneDrive - University of Bristol\\3rd\\data science\\project\\r_stocks_data\\current\\month_polarity\\compile\\nov3.csv', index = False)"
   ]
  },
  {
   "cell_type": "code",
   "execution_count": 18,
   "metadata": {},
   "outputs": [],
   "source": [
    "# Sources\n",
    "# TextBlob Docs\n",
    "# Pushift PRAW Docs\n",
    "# David Little: 4-Step Reddit vs. NY Stock Exchange Sentiment Analysis"
   ]
  },
  {
   "cell_type": "code",
   "execution_count": 19,
   "metadata": {},
   "outputs": [
    {
     "data": {
      "text/html": [
       "<div>\n",
       "<style scoped>\n",
       "    .dataframe tbody tr th:only-of-type {\n",
       "        vertical-align: middle;\n",
       "    }\n",
       "\n",
       "    .dataframe tbody tr th {\n",
       "        vertical-align: top;\n",
       "    }\n",
       "\n",
       "    .dataframe thead th {\n",
       "        text-align: right;\n",
       "    }\n",
       "</style>\n",
       "<table border=\"1\" class=\"dataframe\">\n",
       "  <thead>\n",
       "    <tr style=\"text-align: right;\">\n",
       "      <th></th>\n",
       "      <th>created</th>\n",
       "      <th>polarity</th>\n",
       "    </tr>\n",
       "  </thead>\n",
       "  <tbody>\n",
       "    <tr>\n",
       "      <th>0</th>\n",
       "      <td>2021-12-24 00:30:31</td>\n",
       "      <td>0.124306</td>\n",
       "    </tr>\n",
       "    <tr>\n",
       "      <th>1</th>\n",
       "      <td>2021-12-24 01:22:59</td>\n",
       "      <td>0.053968</td>\n",
       "    </tr>\n",
       "    <tr>\n",
       "      <th>2</th>\n",
       "      <td>2021-12-24 01:24:06</td>\n",
       "      <td>0.258333</td>\n",
       "    </tr>\n",
       "    <tr>\n",
       "      <th>3</th>\n",
       "      <td>2021-12-24 03:45:27</td>\n",
       "      <td>0.188095</td>\n",
       "    </tr>\n",
       "    <tr>\n",
       "      <th>4</th>\n",
       "      <td>2021-12-24 04:08:16</td>\n",
       "      <td>0.162121</td>\n",
       "    </tr>\n",
       "    <tr>\n",
       "      <th>5</th>\n",
       "      <td>2021-12-24 04:41:55</td>\n",
       "      <td>0.160000</td>\n",
       "    </tr>\n",
       "    <tr>\n",
       "      <th>6</th>\n",
       "      <td>2021-12-24 06:06:30</td>\n",
       "      <td>0.399643</td>\n",
       "    </tr>\n",
       "    <tr>\n",
       "      <th>7</th>\n",
       "      <td>2021-12-24 10:23:47</td>\n",
       "      <td>0.130000</td>\n",
       "    </tr>\n",
       "    <tr>\n",
       "      <th>8</th>\n",
       "      <td>2021-12-24 10:30:11</td>\n",
       "      <td>0.019213</td>\n",
       "    </tr>\n",
       "    <tr>\n",
       "      <th>9</th>\n",
       "      <td>2021-12-24 12:00:18</td>\n",
       "      <td>0.218869</td>\n",
       "    </tr>\n",
       "    <tr>\n",
       "      <th>10</th>\n",
       "      <td>2021-12-24 13:15:27</td>\n",
       "      <td>0.123937</td>\n",
       "    </tr>\n",
       "    <tr>\n",
       "      <th>11</th>\n",
       "      <td>2021-12-24 13:18:23</td>\n",
       "      <td>0.175000</td>\n",
       "    </tr>\n",
       "    <tr>\n",
       "      <th>12</th>\n",
       "      <td>2021-12-24 13:59:59</td>\n",
       "      <td>0.005146</td>\n",
       "    </tr>\n",
       "    <tr>\n",
       "      <th>13</th>\n",
       "      <td>2021-12-24 15:22:22</td>\n",
       "      <td>0.028072</td>\n",
       "    </tr>\n",
       "    <tr>\n",
       "      <th>14</th>\n",
       "      <td>2021-12-24 16:03:54</td>\n",
       "      <td>0.158907</td>\n",
       "    </tr>\n",
       "    <tr>\n",
       "      <th>15</th>\n",
       "      <td>2021-12-24 16:33:26</td>\n",
       "      <td>0.326667</td>\n",
       "    </tr>\n",
       "    <tr>\n",
       "      <th>16</th>\n",
       "      <td>2021-12-24 18:10:37</td>\n",
       "      <td>0.130469</td>\n",
       "    </tr>\n",
       "    <tr>\n",
       "      <th>17</th>\n",
       "      <td>2021-12-24 18:27:30</td>\n",
       "      <td>0.054167</td>\n",
       "    </tr>\n",
       "    <tr>\n",
       "      <th>18</th>\n",
       "      <td>2021-12-24 19:38:08</td>\n",
       "      <td>-0.180000</td>\n",
       "    </tr>\n",
       "    <tr>\n",
       "      <th>19</th>\n",
       "      <td>2021-12-24 19:38:43</td>\n",
       "      <td>0.029286</td>\n",
       "    </tr>\n",
       "    <tr>\n",
       "      <th>20</th>\n",
       "      <td>2021-12-24 21:06:28</td>\n",
       "      <td>-0.350000</td>\n",
       "    </tr>\n",
       "  </tbody>\n",
       "</table>\n",
       "</div>"
      ],
      "text/plain": [
       "               created  polarity\n",
       "0  2021-12-24 00:30:31  0.124306\n",
       "1  2021-12-24 01:22:59  0.053968\n",
       "2  2021-12-24 01:24:06  0.258333\n",
       "3  2021-12-24 03:45:27  0.188095\n",
       "4  2021-12-24 04:08:16  0.162121\n",
       "5  2021-12-24 04:41:55  0.160000\n",
       "6  2021-12-24 06:06:30  0.399643\n",
       "7  2021-12-24 10:23:47  0.130000\n",
       "8  2021-12-24 10:30:11  0.019213\n",
       "9  2021-12-24 12:00:18  0.218869\n",
       "10 2021-12-24 13:15:27  0.123937\n",
       "11 2021-12-24 13:18:23  0.175000\n",
       "12 2021-12-24 13:59:59  0.005146\n",
       "13 2021-12-24 15:22:22  0.028072\n",
       "14 2021-12-24 16:03:54  0.158907\n",
       "15 2021-12-24 16:33:26  0.326667\n",
       "16 2021-12-24 18:10:37  0.130469\n",
       "17 2021-12-24 18:27:30  0.054167\n",
       "18 2021-12-24 19:38:08 -0.180000\n",
       "19 2021-12-24 19:38:43  0.029286\n",
       "20 2021-12-24 21:06:28 -0.350000"
      ]
     },
     "execution_count": 19,
     "metadata": {},
     "output_type": "execute_result"
    }
   ],
   "source": [
    "df\n"
   ]
  },
  {
   "cell_type": "code",
   "execution_count": null,
   "metadata": {
    "id": "DHHwgDKyv9SK"
   },
   "outputs": [],
   "source": []
  },
  {
   "cell_type": "code",
   "execution_count": null,
   "metadata": {
    "id": "-zcMDiUIwKeW"
   },
   "outputs": [],
   "source": []
  },
  {
   "cell_type": "code",
   "execution_count": null,
   "metadata": {},
   "outputs": [],
   "source": []
  },
  {
   "cell_type": "code",
   "execution_count": null,
   "metadata": {},
   "outputs": [],
   "source": []
  },
  {
   "cell_type": "code",
   "execution_count": null,
   "metadata": {},
   "outputs": [],
   "source": []
  },
  {
   "cell_type": "code",
   "execution_count": null,
   "metadata": {
    "id": "auW_vjlMwGcP"
   },
   "outputs": [],
   "source": []
  },
  {
   "cell_type": "code",
   "execution_count": null,
   "metadata": {
    "id": "4yMyNhIawJlt"
   },
   "outputs": [],
   "source": []
  }
 ],
 "metadata": {
  "colab": {
   "name": "long_loop.ipynb",
   "provenance": []
  },
  "kernelspec": {
   "display_name": "Python 3 (ipykernel)",
   "language": "python",
   "name": "python3"
  },
  "language_info": {
   "codemirror_mode": {
    "name": "ipython",
    "version": 3
   },
   "file_extension": ".py",
   "mimetype": "text/x-python",
   "name": "python",
   "nbconvert_exporter": "python",
   "pygments_lexer": "ipython3",
   "version": "3.9.7"
  }
 },
 "nbformat": 4,
 "nbformat_minor": 1
}
